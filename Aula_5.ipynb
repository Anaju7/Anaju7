{
  "nbformat": 4,
  "nbformat_minor": 0,
  "metadata": {
    "colab": {
      "provenance": [],
      "toc_visible": true,
      "authorship_tag": "ABX9TyPpJH93IYHOUyD0UyiJ9PIr",
      "include_colab_link": true
    },
    "kernelspec": {
      "name": "python3",
      "display_name": "Python 3"
    },
    "language_info": {
      "name": "python"
    }
  },
  "cells": [
    {
      "cell_type": "markdown",
      "metadata": {
        "id": "view-in-github",
        "colab_type": "text"
      },
      "source": [
        "<a href=\"https://colab.research.google.com/github/Anaju7/Anaju7/blob/main/Aula_5.ipynb\" target=\"_parent\"><img src=\"https://colab.research.google.com/assets/colab-badge.svg\" alt=\"Open In Colab\"/></a>"
      ]
    },
    {
      "cell_type": "markdown",
      "source": [
        "#Aula 4 - Coleções  30/09/2024"
      ],
      "metadata": {
        "id": "fX4YHLryBQtf"
      }
    },
    {
      "cell_type": "markdown",
      "source": [
        "##Tuplas"
      ],
      "metadata": {
        "id": "6PmOlTkeBbTk"
      }
    },
    {
      "cell_type": "markdown",
      "source": [
        "Usar tuplas para montar estruturas de dados heterogêneos"
      ],
      "metadata": {
        "id": "nzcY-vgdB4_L"
      }
    },
    {
      "cell_type": "code",
      "source": [
        "tupla = ('Hillux', 'Corolla', 'SW4')\n",
        "tupla[0]"
      ],
      "metadata": {
        "colab": {
          "base_uri": "https://localhost:8080/",
          "height": 35
        },
        "id": "pl49KsXwBjDI",
        "outputId": "5cf58230-872a-4874-ef35-56551a080068"
      },
      "execution_count": null,
      "outputs": [
        {
          "output_type": "execute_result",
          "data": {
            "text/plain": [
              "'Hillux'"
            ],
            "application/vnd.google.colaboratory.intrinsic+json": {
              "type": "string"
            }
          },
          "metadata": {},
          "execution_count": 3
        }
      ]
    },
    {
      "cell_type": "code",
      "source": [
        "for item in tupla:\n",
        "  print(item)"
      ],
      "metadata": {
        "colab": {
          "base_uri": "https://localhost:8080/"
        },
        "id": "8ggzbDYQBah_",
        "outputId": "83eddf39-b3c5-47b2-9cca-52070a69a685"
      },
      "execution_count": null,
      "outputs": [
        {
          "output_type": "stream",
          "name": "stdout",
          "text": [
            "Hillux\n",
            "Corolla\n",
            "SW4\n"
          ]
        }
      ]
    },
    {
      "cell_type": "markdown",
      "source": [
        "##Listas"
      ],
      "metadata": {
        "id": "2yA1zE6dB8B3"
      }
    },
    {
      "cell_type": "markdown",
      "source": [
        "As listas devem ser usadas para dados homogêneos."
      ],
      "metadata": {
        "id": "t39CTRRYEkaw"
      }
    },
    {
      "cell_type": "code",
      "source": [
        "lista = ['item1', 'item2', 'item3']"
      ],
      "metadata": {
        "id": "W7ceuLpBB-hM"
      },
      "execution_count": null,
      "outputs": []
    },
    {
      "cell_type": "code",
      "source": [
        "lista.append(\"item4\")\n",
        "print(lista)"
      ],
      "metadata": {
        "colab": {
          "base_uri": "https://localhost:8080/"
        },
        "id": "B9jEaGw5C0nz",
        "outputId": "e0d0e0d5-3ca6-48bb-b7d9-8bfa28838ce0"
      },
      "execution_count": null,
      "outputs": [
        {
          "output_type": "stream",
          "name": "stdout",
          "text": [
            "['item1', 'item2', 'item3', 'item4']\n"
          ]
        }
      ]
    },
    {
      "cell_type": "code",
      "source": [
        "# percorrer a lista\n",
        "for item in lista:\n",
        "  print(item)"
      ],
      "metadata": {
        "colab": {
          "base_uri": "https://localhost:8080/"
        },
        "id": "hUZw12oIDGZX",
        "outputId": "f6135445-0381-4ce4-ff26-86be6b97a8a9"
      },
      "execution_count": null,
      "outputs": [
        {
          "output_type": "stream",
          "name": "stdout",
          "text": [
            "item1\n",
            "item2\n",
            "item3\n",
            "item4\n"
          ]
        }
      ]
    },
    {
      "cell_type": "markdown",
      "source": [
        "## Dicionarios"
      ],
      "metadata": {
        "id": "9HShLHpnEVaG"
      }
    },
    {
      "cell_type": "code",
      "source": [
        "carros = {'hillux': 300.000,\n",
        "          'sw4': 400.000,\n",
        "          'corola': 350.000\n",
        "          }\n",
        "print(carros['sw4'])"
      ],
      "metadata": {
        "colab": {
          "base_uri": "https://localhost:8080/"
        },
        "id": "K1gfHidvE0WA",
        "outputId": "19178cf0-e075-4f3a-9927-d6813e1cf053"
      },
      "execution_count": null,
      "outputs": [
        {
          "output_type": "stream",
          "name": "stdout",
          "text": [
            "400.0\n"
          ]
        }
      ]
    },
    {
      "cell_type": "code",
      "source": [
        "carros['yaris'] = 300.000\n",
        "print(carros)"
      ],
      "metadata": {
        "colab": {
          "base_uri": "https://localhost:8080/"
        },
        "id": "TuNfcqAlFfId",
        "outputId": "79a4db04-d193-476d-a32c-cbba91011ce4"
      },
      "execution_count": null,
      "outputs": [
        {
          "output_type": "stream",
          "name": "stdout",
          "text": [
            "{'hillux': 300.0, 'sw4': 400.0, 'corola': 300.0, 'yaris': 300.0}\n"
          ]
        }
      ]
    },
    {
      "cell_type": "code",
      "source": [
        "del(carros)['yaris']\n",
        "print(carros)"
      ],
      "metadata": {
        "colab": {
          "base_uri": "https://localhost:8080/"
        },
        "id": "QiJxUDL6FwrT",
        "outputId": "8c0b69ef-ffff-434e-f92e-b1838b6acdf8"
      },
      "execution_count": null,
      "outputs": [
        {
          "output_type": "stream",
          "name": "stdout",
          "text": [
            "{'hillux': 300.0, 'sw4': 400.0, 'corola': 300.0}\n"
          ]
        }
      ]
    },
    {
      "cell_type": "code",
      "source": [
        "print(carros.items())\n",
        "print(carros.keys())\n",
        "print(carros.values())"
      ],
      "metadata": {
        "colab": {
          "base_uri": "https://localhost:8080/"
        },
        "id": "z18qn4mQK5Le",
        "outputId": "85ff5145-2cc7-49c3-9adb-8ba3a7c1dc16"
      },
      "execution_count": null,
      "outputs": [
        {
          "output_type": "stream",
          "name": "stdout",
          "text": [
            "dict_items([('hillux', 300.0), ('sw4', 400.0), ('corola', 300.0)])\n",
            "dict_keys(['hillux', 'sw4', 'corola'])\n",
            "dict_values([300.0, 400.0, 300.0])\n"
          ]
        }
      ]
    },
    {
      "cell_type": "code",
      "source": [],
      "metadata": {
        "id": "hWSJHFyALOWM"
      },
      "execution_count": null,
      "outputs": []
    },
    {
      "cell_type": "markdown",
      "source": [
        "## Conjuntos"
      ],
      "metadata": {
        "id": "vrSca0ugN6pW"
      }
    },
    {
      "cell_type": "code",
      "source": [
        "c1 = {1,2,3,4,5}\n",
        "c2 = {4,5,6,7,8}\n",
        "print(c1.union(c2))\n",
        "print(c1.intersection(c2))\n",
        "print(c1.difference(c2))"
      ],
      "metadata": {
        "colab": {
          "base_uri": "https://localhost:8080/"
        },
        "id": "31DF78BnN_6w",
        "outputId": "80b17b46-a1da-44dd-df7b-a224a374a25b"
      },
      "execution_count": null,
      "outputs": [
        {
          "output_type": "stream",
          "name": "stdout",
          "text": [
            "{1, 2, 3, 4, 5, 6, 7, 8}\n",
            "{4, 5}\n",
            "{1, 2, 3}\n"
          ]
        }
      ]
    },
    {
      "cell_type": "markdown",
      "source": [
        "## Matrizes\n"
      ],
      "metadata": {
        "id": "Rmm-RepaQ-dS"
      }
    },
    {
      "cell_type": "markdown",
      "source": [
        "* precisa de biblioteca para trabalhar com arrays e matrizes **Numpy**"
      ],
      "metadata": {
        "id": "FR3mqI0kRbqN"
      }
    },
    {
      "cell_type": "code",
      "source": [
        "# importando biblioteca\n",
        "import numpy as np\n",
        "\n",
        "array = np.array([1,2,3,4,5])\n",
        "\n",
        "matriz = np.array([[1,2,3],[4,5,6],[7,8,9]])\n",
        "\n",
        "print(matriz)\n",
        "# numero de linhas e colunas\n",
        "print(matriz.shape)"
      ],
      "metadata": {
        "colab": {
          "base_uri": "https://localhost:8080/"
        },
        "id": "O6eA3eaORBw2",
        "outputId": "be490932-edf0-4911-d12a-a3f38218e58f"
      },
      "execution_count": null,
      "outputs": [
        {
          "output_type": "stream",
          "name": "stdout",
          "text": [
            "[[1 2 3]\n",
            " [4 5 6]\n",
            " [7 8 9]]\n",
            "(3, 3)\n"
          ]
        }
      ]
    },
    {
      "cell_type": "code",
      "source": [
        "# percorrendo matriz\n",
        "for i in range(matriz.shape[0]):\n",
        "  for j in range(matriz.shape[1]):\n",
        "    print(matriz[i][j], end=' ')\n",
        "  print(\"\")"
      ],
      "metadata": {
        "colab": {
          "base_uri": "https://localhost:8080/"
        },
        "id": "VsnglOfFVCJv",
        "outputId": "ba4b0f92-7469-467a-a380-76a291d0827b"
      },
      "execution_count": null,
      "outputs": [
        {
          "output_type": "stream",
          "name": "stdout",
          "text": [
            "1 2 3 \n",
            "4 5 6 \n",
            "7 8 9 \n"
          ]
        }
      ]
    },
    {
      "cell_type": "markdown",
      "source": [
        "# Aula 5 - 01/10/2024"
      ],
      "metadata": {
        "id": "6_w9vBXIXdzg"
      }
    },
    {
      "cell_type": "markdown",
      "source": [
        "## questão 1"
      ],
      "metadata": {
        "id": "GmrujI7OH8kk"
      }
    },
    {
      "cell_type": "code",
      "source": [
        "num = 0\n",
        "lista = []\n",
        "while num < 5:\n",
        "  num = num + 1\n",
        "  lista.append(num)\n",
        "print(lista)"
      ],
      "metadata": {
        "colab": {
          "base_uri": "https://localhost:8080/"
        },
        "id": "eWY9dAs2_M2v",
        "outputId": "94e16a47-fcdb-407d-beb3-b2f0cb6bdc15"
      },
      "execution_count": null,
      "outputs": [
        {
          "output_type": "stream",
          "name": "stdout",
          "text": [
            "[1, 2, 3, 4, 5]\n"
          ]
        }
      ]
    },
    {
      "cell_type": "code",
      "source": [
        "soma = 0\n",
        "for item in lista:\n",
        "  soma = soma + item\n",
        "print(soma)"
      ],
      "metadata": {
        "colab": {
          "base_uri": "https://localhost:8080/"
        },
        "id": "LZz1zMV5_-Bi",
        "outputId": "60dc4e3f-839d-457b-b5b4-cfdad12e9044"
      },
      "execution_count": null,
      "outputs": [
        {
          "output_type": "stream",
          "name": "stdout",
          "text": [
            "15\n"
          ]
        }
      ]
    },
    {
      "cell_type": "markdown",
      "source": [
        "## Questão 2"
      ],
      "metadata": {
        "id": "FGAtyxBGAVjP"
      }
    },
    {
      "cell_type": "code",
      "source": [
        "alunos = {'aluno1': 7,\n",
        "          'aluno2': 6,\n",
        "          'aluno3': 5}\n",
        "somanotas = 0\n",
        "for aluno, nota in alunos.items():\n",
        "  print(f'aluno: {aluno} com nota : {nota}')\n",
        "  somanotas = somanotas + nota\n",
        "print(f'media da turma é: {somanotas / 3}')\n"
      ],
      "metadata": {
        "colab": {
          "base_uri": "https://localhost:8080/"
        },
        "id": "m2YX5GgCAavJ",
        "outputId": "4f9e5a44-182d-4eb6-f3e7-4b6519e81f97"
      },
      "execution_count": null,
      "outputs": [
        {
          "output_type": "stream",
          "name": "stdout",
          "text": [
            "aluno: aluno1 com nota : 7\n",
            "aluno: aluno2 com nota : 6\n",
            "aluno: aluno3 com nota : 5\n",
            "media da turma é: 6.0\n"
          ]
        }
      ]
    },
    {
      "cell_type": "markdown",
      "source": [
        "## Questão 3"
      ],
      "metadata": {
        "id": "KJEzCwc1A18G"
      }
    },
    {
      "cell_type": "code",
      "source": [
        "import numpy as np\n",
        "soma = 0\n",
        "matriz = np.array([[3,4,1],[3,1,5]])\n",
        "print(matriz)\n",
        "\n",
        "for a in range(matriz.shape[0]):\n",
        "  for b in range(matriz.shape[1]):\n",
        "    soma = soma + matriz[a][b]\n",
        "print(soma)"
      ],
      "metadata": {
        "colab": {
          "base_uri": "https://localhost:8080/"
        },
        "id": "NLZcuh_JA46N",
        "outputId": "270d7a05-fe51-4932-8ccd-c1f8c7d3ad36"
      },
      "execution_count": null,
      "outputs": [
        {
          "output_type": "stream",
          "name": "stdout",
          "text": [
            "[[3 4 1]\n",
            " [3 1 5]]\n",
            "17\n"
          ]
        }
      ]
    }
  ]
}