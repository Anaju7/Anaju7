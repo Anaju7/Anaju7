{
  "nbformat": 4,
  "nbformat_minor": 0,
  "metadata": {
    "colab": {
      "provenance": [],
      "authorship_tag": "ABX9TyNp8ANKrbV+78PvLAA6PpYa",
      "include_colab_link": true
    },
    "kernelspec": {
      "name": "python3",
      "display_name": "Python 3"
    },
    "language_info": {
      "name": "python"
    }
  },
  "cells": [
    {
      "cell_type": "markdown",
      "metadata": {
        "id": "view-in-github",
        "colab_type": "text"
      },
      "source": [
        "<a href=\"https://colab.research.google.com/github/Anaju7/Anaju7/blob/main/opera%C3%A7%C3%B5es_py.ipynb\" target=\"_parent\"><img src=\"https://colab.research.google.com/assets/colab-badge.svg\" alt=\"Open In Colab\"/></a>"
      ]
    },
    {
      "cell_type": "markdown",
      "source": [
        "###Aula 2 24-09-2024 / Aula 3 26-09-2024\n",
        "\n",
        "\n"
      ],
      "metadata": {
        "id": "AnjAZrXUU_52"
      }
    },
    {
      "cell_type": "markdown",
      "source": [
        "####Questão 1\n"
      ],
      "metadata": {
        "id": "TfXcEt0Tlr_i"
      }
    },
    {
      "cell_type": "code",
      "execution_count": null,
      "metadata": {
        "id": "cS0Mc2ZxKw6Z"
      },
      "outputs": [],
      "source": [
        "num1 = 7\n",
        "num2 = 5"
      ]
    },
    {
      "cell_type": "code",
      "source": [
        "print(f'o primeiro numero é: {num1}, o segundo numero é: {num2}')"
      ],
      "metadata": {
        "colab": {
          "base_uri": "https://localhost:8080/"
        },
        "id": "L4tvnkHmUg4E",
        "outputId": "0fa1dd89-24a6-4bc4-9414-5d528dd3a194"
      },
      "execution_count": null,
      "outputs": [
        {
          "output_type": "stream",
          "name": "stdout",
          "text": [
            "o primeiro numero é: 7, o segundo numero é: 5\n"
          ]
        }
      ]
    },
    {
      "cell_type": "code",
      "source": [
        "print(f'a soma do primero com segundo numero é {num1 + num2}')"
      ],
      "metadata": {
        "colab": {
          "base_uri": "https://localhost:8080/"
        },
        "id": "Pqo4UXXxgoeN",
        "outputId": "2e74120d-05d4-4ec4-87da-2084f9ac41da"
      },
      "execution_count": null,
      "outputs": [
        {
          "output_type": "stream",
          "name": "stdout",
          "text": [
            "a soma do primero com segundo numero é 12\n"
          ]
        }
      ]
    },
    {
      "cell_type": "code",
      "source": [
        "print(f'a subtração do primero com segundo numero é {num1 - num2}')"
      ],
      "metadata": {
        "colab": {
          "base_uri": "https://localhost:8080/"
        },
        "id": "i0i5MDLxg0Ze",
        "outputId": "c51ef813-4b46-4582-ba9a-29ad1b4d303d"
      },
      "execution_count": null,
      "outputs": [
        {
          "output_type": "stream",
          "name": "stdout",
          "text": [
            "a subtração do primero com segundo numero é 2\n"
          ]
        }
      ]
    },
    {
      "cell_type": "code",
      "source": [
        "print(f'a mutiplicação do primero com segundo numero é {num1 * num2}')"
      ],
      "metadata": {
        "colab": {
          "base_uri": "https://localhost:8080/"
        },
        "id": "DDI0j_58hBIo",
        "outputId": "e6877e58-88ef-4b33-feb0-1896acf44841"
      },
      "execution_count": null,
      "outputs": [
        {
          "output_type": "stream",
          "name": "stdout",
          "text": [
            "a mutiplicação do primero com segundo numero é 35\n"
          ]
        }
      ]
    },
    {
      "cell_type": "code",
      "source": [
        "print(f'a divisão do primero com segundo numero é {num1 / num2}')"
      ],
      "metadata": {
        "colab": {
          "base_uri": "https://localhost:8080/"
        },
        "id": "pI1F3ZjChUIx",
        "outputId": "6528d687-1450-4048-dd2e-00df8501d94d"
      },
      "execution_count": null,
      "outputs": [
        {
          "output_type": "stream",
          "name": "stdout",
          "text": [
            "a divisão do primero com segundo numero é 1.4\n"
          ]
        }
      ]
    },
    {
      "cell_type": "markdown",
      "source": [
        "####Questão 2"
      ],
      "metadata": {
        "id": "1DdVX7d7he5p"
      }
    },
    {
      "cell_type": "code",
      "source": [
        "tempo = int(input(\"digite o tempo utilizado em Horas: \"))\n",
        "velocidade = int(input(\"digite a velocidade media: \"))"
      ],
      "metadata": {
        "colab": {
          "base_uri": "https://localhost:8080/"
        },
        "id": "rLRs6LLGheh-",
        "outputId": "15c23033-8506-44f7-8596-ceb19c1c0b84"
      },
      "execution_count": null,
      "outputs": [
        {
          "name": "stdout",
          "output_type": "stream",
          "text": [
            "digite o tempo utilizado em Horas: 4\n",
            "digite a velocidade media: 40\n"
          ]
        }
      ]
    },
    {
      "cell_type": "code",
      "source": [
        "distancia = tempo * velocidade\n",
        "print(f'você percorreu {distancia}KM/H no tempo de {tempo}, utilizando {round(distancia / 12)} litros de gasolina')"
      ],
      "metadata": {
        "colab": {
          "base_uri": "https://localhost:8080/"
        },
        "id": "3jaQzequiQtN",
        "outputId": "4605ee38-5379-4056-ee8c-19de93c4af70"
      },
      "execution_count": null,
      "outputs": [
        {
          "output_type": "stream",
          "name": "stdout",
          "text": [
            "você percorreu 160KM/H no tempo de 4, utilizando 13 litros de gasolina\n"
          ]
        }
      ]
    },
    {
      "cell_type": "markdown",
      "source": [
        "###Operadores"
      ],
      "metadata": {
        "id": "MXeeKamjWk86"
      }
    },
    {
      "cell_type": "code",
      "source": [],
      "metadata": {
        "id": "8W7t3ezlW7WK"
      },
      "execution_count": null,
      "outputs": []
    },
    {
      "cell_type": "markdown",
      "source": [
        "#condicinal"
      ],
      "metadata": {
        "id": "lQ7vHBELZToV"
      }
    },
    {
      "cell_type": "code",
      "source": [
        "if 10 > 5:\n",
        "  print('true')\n",
        "else:\n",
        "  print('false')"
      ],
      "metadata": {
        "colab": {
          "base_uri": "https://localhost:8080/"
        },
        "id": "Nf3KAMHQZaGF",
        "outputId": "df966d67-0703-4417-ee10-744531089bfa"
      },
      "execution_count": null,
      "outputs": [
        {
          "output_type": "stream",
          "name": "stdout",
          "text": [
            "true\n"
          ]
        }
      ]
    },
    {
      "cell_type": "markdown",
      "source": [
        "####Questão 1"
      ],
      "metadata": {
        "id": "0SBmyOqsdQLN"
      }
    },
    {
      "cell_type": "code",
      "source": [
        "idade = int(input(\"digite sua idade:\"))\n",
        "\n",
        "if idade < 0:\n",
        "  print('idade invalida')\n",
        "elif idade <= 12:\n",
        "  print('criança')\n",
        "elif idade <= 17:\n",
        "  print('adolescente')\n",
        "else:\n",
        "  print('adulto')"
      ],
      "metadata": {
        "colab": {
          "base_uri": "https://localhost:8080/"
        },
        "id": "Ym4FnqgTdcmd",
        "outputId": "02bea484-f4b1-4ecf-8789-16d102ddf77d"
      },
      "execution_count": null,
      "outputs": [
        {
          "output_type": "stream",
          "name": "stdout",
          "text": [
            "digite sua idade:15\n",
            "adolescente\n"
          ]
        }
      ]
    },
    {
      "cell_type": "code",
      "source": [
        "m1 = float(input(\"digite a primeira nota:\"))\n",
        "m2 = float(input(\"digite a segunda nota:\"))\n",
        "m3 = float(input(\"digite a terceira nota:\"))\n",
        "media = (m1 + m2 + m3) / 3\n",
        "print(media)\n",
        "\n",
        "if media <= 4:\n",
        "  print(\"reprovado more!\")\n",
        "elif media <= 6:\n",
        "  sub = float(input(\"nota substitutiva: \"))\n",
        "  if sub >= 6:\n",
        "    print(\"passou se arrastando com a nota da sub!\")\n",
        "  else:\n",
        "      print(\"reprovado more!\")\n",
        "elif media > 6:\n",
        "  print(\"passou linde!!\")"
      ],
      "metadata": {
        "colab": {
          "base_uri": "https://localhost:8080/"
        },
        "id": "L57EFvmXinQU",
        "outputId": "9409d5d9-6ff5-4a7a-e4d1-88de8dcfe994"
      },
      "execution_count": null,
      "outputs": [
        {
          "output_type": "stream",
          "name": "stdout",
          "text": [
            "digite a primeira nota:6\n",
            "digite a segunda nota:7\n",
            "digite a terceira nota:5\n",
            "6.0\n",
            "nota substitutiva: 6\n",
            "passou se arrastando com a nota da sub!\n"
          ]
        }
      ]
    },
    {
      "cell_type": "markdown",
      "source": [
        "#loop"
      ],
      "metadata": {
        "id": "-5t4fnZ3qxd8"
      }
    },
    {
      "cell_type": "code",
      "source": [
        "for num in range(1,6):\n",
        "  print(num)"
      ],
      "metadata": {
        "colab": {
          "base_uri": "https://localhost:8080/"
        },
        "id": "RMiWLlEgq0-0",
        "outputId": "fac0e440-184c-47dd-ce8f-fbbb9658537d"
      },
      "execution_count": null,
      "outputs": [
        {
          "output_type": "stream",
          "name": "stdout",
          "text": [
            "1\n",
            "2\n",
            "3\n",
            "4\n",
            "5\n"
          ]
        }
      ]
    },
    {
      "cell_type": "code",
      "source": [
        "for num in range(6,0, -1):\n",
        "  print(num)"
      ],
      "metadata": {
        "colab": {
          "base_uri": "https://localhost:8080/"
        },
        "id": "cKgOYBdarR0b",
        "outputId": "42cf61ac-e2be-4263-a554-65bf4704cc38"
      },
      "execution_count": null,
      "outputs": [
        {
          "output_type": "stream",
          "name": "stdout",
          "text": [
            "6\n",
            "5\n",
            "4\n",
            "3\n",
            "2\n",
            "1\n"
          ]
        }
      ]
    },
    {
      "cell_type": "markdown",
      "source": [
        "##### Questoes aula 30-09-2024\n"
      ],
      "metadata": {
        "id": "Ujsenh0n2R75"
      }
    },
    {
      "cell_type": "code",
      "source": [
        "num = 1\n",
        "soma = 0\n",
        "while num <= 5:\n",
        "  nota = float(input(f\"nota {num}: \"))\n",
        "  num = num + 1\n",
        "  soma = soma + nota\n",
        "print(f'sua media é {soma / 5}')"
      ],
      "metadata": {
        "colab": {
          "base_uri": "https://localhost:8080/"
        },
        "id": "gOZWbH452dGB",
        "outputId": "9c46390c-e9e5-4bf0-c3fc-4e17a727c546"
      },
      "execution_count": 11,
      "outputs": [
        {
          "output_type": "stream",
          "name": "stdout",
          "text": [
            "nota 1: 5\n",
            "nota 2: 6\n",
            "nota 3: 7\n",
            "nota 4: 8\n",
            "nota 5: 9\n",
            "sua media é 7.0\n"
          ]
        }
      ]
    },
    {
      "cell_type": "code",
      "source": [
        "num = 0\n",
        "while num < 30:\n",
        "  num = num + 3\n",
        "  print(num)"
      ],
      "metadata": {
        "colab": {
          "base_uri": "https://localhost:8080/"
        },
        "id": "ejetOLCh3nkl",
        "outputId": "1200ddaa-7649-47bf-f01c-5037d816b4a1"
      },
      "execution_count": 16,
      "outputs": [
        {
          "output_type": "stream",
          "name": "stdout",
          "text": [
            "3\n",
            "6\n",
            "9\n",
            "12\n",
            "15\n",
            "18\n",
            "21\n",
            "24\n",
            "27\n",
            "30\n"
          ]
        }
      ]
    }
  ]
}